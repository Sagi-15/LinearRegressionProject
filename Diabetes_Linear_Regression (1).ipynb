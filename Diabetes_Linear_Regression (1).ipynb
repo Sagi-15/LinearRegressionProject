{
  "nbformat": 4,
  "nbformat_minor": 0,
  "metadata": {
    "colab": {
      "provenance": []
    },
    "kernelspec": {
      "name": "python3",
      "display_name": "Python 3"
    },
    "language_info": {
      "name": "python"
    }
  },
  "cells": [
    {
      "cell_type": "markdown",
      "source": [
        "# **Importing all the libraries required**"
      ],
      "metadata": {
        "id": "eFbx08Dwb_8a"
      }
    },
    {
      "cell_type": "code",
      "execution_count": 25,
      "metadata": {
        "id": "RUurPr-Cbu2z"
      },
      "outputs": [],
      "source": [
        "import numpy as np\n",
        "from sklearn import model_selection\n",
        "from sklearn.linear_model import LinearRegression\n",
        "import pandas as pd"
      ]
    },
    {
      "cell_type": "markdown",
      "source": [
        "# **Function for calculation of score**"
      ],
      "metadata": {
        "id": "R-Cg_znYfKpN"
      }
    },
    {
      "cell_type": "code",
      "source": [
        "def score(y_predicted,y_actual):\n",
        "  u=((y_predicted-y_actual)**2).sum()\n",
        "  v=((y_predicted-y_actual.mean())**2).sum()\n",
        "  return 1-u/v"
      ],
      "metadata": {
        "id": "ktgt2E2kfTVG"
      },
      "execution_count": 26,
      "outputs": []
    },
    {
      "cell_type": "markdown",
      "source": [
        "# **Saare operations down here**"
      ],
      "metadata": {
        "id": "KSZAYC5-cus7"
      }
    },
    {
      "cell_type": "code",
      "source": [
        "data=np.loadtxt(\"train.csv\",delimiter=\",\")\n",
        "#data mei training data aa chuka\n",
        "#now input aur output alag kar first 10 columns(question se) input aur last column output\n",
        "input=data[:,:10]  #all rows and 0 to 9 columns\n",
        "output=data[:,10:]  #all rows and 10th column\n",
        "#Now input aur output use krke x train y train wgera make\n",
        "x_train,x_test,y_train,y_test=model_selection.train_test_split(input,output)\n",
        "algo=LinearRegression()\n",
        "#algo now linear regression type object\n",
        "#fit in algorithm\n",
        "algo.fit(x_train,y_train)\n",
        "#now predict kar according to fitted data output\n",
        "y_predicted=algo.predict(x_test)\n",
        "print(\"Testing score for given data being splitted into training and testing : \",score(y_predicted,y_test))\n",
        "#so now tested that score kitna aa on data we actually have"
      ],
      "metadata": {
        "colab": {
          "base_uri": "https://localhost:8080/"
        },
        "id": "xEcLSUoXc5Lt",
        "outputId": "f1efd98b-a578-4b3c-9fdf-2b005813851e"
      },
      "execution_count": 27,
      "outputs": [
        {
          "output_type": "stream",
          "name": "stdout",
          "text": [
            "Testing score for given data being splitted into training and testing :  0.18570264169305073\n"
          ]
        }
      ]
    },
    {
      "cell_type": "markdown",
      "source": [
        "# **Now test the algorithm on test data**"
      ],
      "metadata": {
        "id": "j1ifoHX-gD8Y"
      }
    },
    {
      "cell_type": "code",
      "source": [
        "data=np.loadtxt(\"test.csv\",delimiter=\",\")\n",
        "y_output=algo.predict(data)\n",
        "#now y output mei numpy array aa jaayega\n",
        "#now use savetxt as follows:\n",
        "np.savetxt(\"prediction.csv\",y_output,delimiter=\",\",fmt='%.5f')\n",
        "#fmt='%.5f' used for 5 decimal places tak float value\n",
        "#Download the prediction.csv file from left window and get csv file\n"
      ],
      "metadata": {
        "id": "bcCxeO1-gJrs"
      },
      "execution_count": 28,
      "outputs": []
    }
  ]
}